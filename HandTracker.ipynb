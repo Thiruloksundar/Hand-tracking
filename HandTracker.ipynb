{
  "cells": [
    {
      "cell_type": "code",
      "execution_count": null,
      "id": "791b52b9",
      "metadata": {
        "id": "791b52b9",
        "outputId": "57b2122e-6446-4fd9-a974-f93edb441549"
      },
      "outputs": [
        {
          "name": "stdout",
          "output_type": "stream",
          "text": [
            "Wall time: 0 ns\n",
            "[4, 353, 300]\n",
            "[4, 367, 277]\n",
            "[4, 401, 263]\n",
            "[4, 386, 274]\n",
            "[4, 444, 270]\n",
            "[4, 401, 283]\n",
            "[4, 425, 332]\n"
          ]
        }
      ],
      "source": [
        "%time\n",
        "import cv2\n",
        "import mediapipe as mp\n",
        "import time\n",
        "import HandTrackingModule as htm\n",
        "pTime = 0\n",
        "cTime = 0\n",
        "cap = cv2.VideoCapture(0)\n",
        "detector = htm.handDetector()\n",
        "while True:\n",
        "    success, img = cap.read()\n",
        "    img = detector.findHands(img)\n",
        "    lmList = detector.findPosition(img)\n",
        "    if len(lmList)!=0:\n",
        "        print(lmList[4])\n",
        "    cTime = time.time()\n",
        "    fps = 1/(cTime-pTime)\n",
        "    pTime = cTime\n",
        "    cv2.putText(img,str(int(fps)),(10,70),cv2.FONT_HERSHEY_PLAIN,3,(255,0,255),3)\n",
        "    cv2.imshow(\"Image\", img)\n",
        "\n",
        "    if cv2.waitKey(20) & 0xFF==ord('d'):\n",
        "        break\n",
        "    time.sleep(1)\n",
        "cap.release()\n",
        "cv2.destroyAllWindows()"
      ]
    },
    {
      "cell_type": "code",
      "execution_count": null,
      "id": "5910bcd6",
      "metadata": {
        "id": "5910bcd6"
      },
      "outputs": [],
      "source": []
    }
  ],
  "metadata": {
    "kernelspec": {
      "display_name": "Python 3 (ipykernel)",
      "language": "python",
      "name": "python3"
    },
    "language_info": {
      "codemirror_mode": {
        "name": "ipython",
        "version": 3
      },
      "file_extension": ".py",
      "mimetype": "text/x-python",
      "name": "python",
      "nbconvert_exporter": "python",
      "pygments_lexer": "ipython3",
      "version": "3.9.7"
    },
    "colab": {
      "provenance": []
    }
  },
  "nbformat": 4,
  "nbformat_minor": 5
}