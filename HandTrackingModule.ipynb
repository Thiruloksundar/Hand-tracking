{
  "cells": [
    {
      "cell_type": "code",
      "execution_count": null,
      "id": "17d5b8d9",
      "metadata": {
        "id": "17d5b8d9"
      },
      "outputs": [],
      "source": [
        "import cv2\n",
        "import mediapipe as mp\n",
        "import time"
      ]
    },
    {
      "cell_type": "code",
      "execution_count": null,
      "id": "e3d01788",
      "metadata": {
        "id": "e3d01788"
      },
      "outputs": [],
      "source": [
        "class handDetector():\n",
        "    def __init__(self, mode=False, maxHands=2, complexity=1, detectionCon = 0.5, trackCon = 0.5):\n",
        "        self.mode = mode\n",
        "        self.maxHands = maxHands\n",
        "        self.complexity = complexity\n",
        "        self.detectionCon = detectionCon\n",
        "        self.trackCon = trackCon\n",
        "        self.mpHands = mp.solutions.hands\n",
        "        self.hands = self.mpHands.Hands(self.mode, self.maxHands, self.complexity, self.detectionCon, self.trackCon)\n",
        "        self.mpDraw = mp.solutions.drawing_utils\n",
        "\n",
        "    def findHands(self, img, draw=True):\n",
        "        imgRGB = cv2.cvtColor(img, cv2.COLOR_BGR2RGB)\n",
        "        self.result = self.hands.process(imgRGB)\n",
        "\n",
        "        if self.result.multi_hand_landmarks:\n",
        "            for handLms in self.result.multi_hand_landmarks:\n",
        "                if draw:\n",
        "                    self.mpDraw.draw_landmarks(img,handLms, self.mpHands.HAND_CONNECTIONS)\n",
        "        return img\n",
        "    def findPosition(self, img, handNo=0, draw=True):\n",
        "        lmList = []\n",
        "        if self.result.multi_hand_landmarks:\n",
        "            myHand = self.result.multi_hand_landmarks[handNo]\n",
        "            for ids, lm in enumerate(myHand.landmark):\n",
        "                h,w,c = img.shape\n",
        "                cx, cy = int(lm.x*w),int(lm.y*h)\n",
        "#                 print(id, cx, cy)\n",
        "                lmList.append([ids,cx,cy])\n",
        "                if draw:\n",
        "                    cv2.circle(img, (cx,cy), 15, (255,0,255), cv2.FILLED)\n",
        "\n",
        "        return lmList\n",
        "\n",
        "def main():\n",
        "    pTime = 0\n",
        "    cTime = 0\n",
        "    cap = cv2.VideoCapture(0)\n",
        "    detector = handDetector()\n",
        "    while True:\n",
        "        success, img = cap.read()\n",
        "        img = detector.findHands(img)\n",
        "        lmList = detector.findPosition(img)\n",
        "        if len(lmList)!=0:\n",
        "            print(lmList[4])\n",
        "        cTime = time.time()\n",
        "        fps = 1/(cTime-pTime)\n",
        "        pTime = cTime\n",
        "        cv2.putText(img,str(int(fps)),(10,70),cv2.FONT_HERSHEY_PLAIN,3,(255,0,255),3)\n",
        "        cv2.imshow(\"Image\", img)\n",
        "\n",
        "        if cv2.waitKey(20) & 0xFF==ord('d'):\n",
        "            break\n",
        "    cap.release()\n",
        "    cv2.destroyAllWindows()\n",
        "if __name__ == '__main__':\n",
        "    main()\n",
        ""
      ]
    },
    {
      "cell_type": "code",
      "execution_count": null,
      "id": "a5fac755",
      "metadata": {
        "id": "a5fac755"
      },
      "outputs": [],
      "source": []
    }
  ],
  "metadata": {
    "kernelspec": {
      "display_name": "Python 3 (ipykernel)",
      "language": "python",
      "name": "python3"
    },
    "language_info": {
      "codemirror_mode": {
        "name": "ipython",
        "version": 3
      },
      "file_extension": ".py",
      "mimetype": "text/x-python",
      "name": "python",
      "nbconvert_exporter": "python",
      "pygments_lexer": "ipython3",
      "version": "3.9.7"
    },
    "colab": {
      "provenance": []
    }
  },
  "nbformat": 4,
  "nbformat_minor": 5
}